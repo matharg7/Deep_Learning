{
 "cells": [
  {
   "cell_type": "markdown",
   "source": [
    "# Text Generator at 'Character' level <br>\r\n",
    "### This model generates random names. This is an AI naming your baby (Beware, they are coming for us!)<br>\r\n",
    "#### So if you have a new baby, or your parents name you 'X Æ A-Xii' feel free to use this.\r\n",
    "\r\n",
    "*comments would have explanation of the code*"
   ],
   "metadata": {}
  },
  {
   "cell_type": "code",
   "execution_count": 1,
   "source": [
    "#Basic imports\r\n",
    "\r\n",
    "import torch\r\n",
    "import torch.nn as nn\r\n",
    "import string\r\n",
    "import random \r\n",
    "import unidecode  #to read text file per character \r\n",
    "from torch.utils.tensorboard import SummaryWriter"
   ],
   "outputs": [],
   "metadata": {}
  },
  {
   "cell_type": "code",
   "execution_count": 11,
   "source": [
    "device = torch.device('cuda' if torch.cuda.is_available() else 'cpu') #to run our model on GPU\r\n",
    "print(device)"
   ],
   "outputs": [
    {
     "output_type": "stream",
     "name": "stdout",
     "text": [
      "cuda\n"
     ]
    }
   ],
   "metadata": {}
  },
  {
   "cell_type": "code",
   "execution_count": 12,
   "source": [
    "all_characters = string.printable #obtaining all the characters used by humans to name humans\r\n",
    "print(\"All Characters -> \"+ all_characters)\r\n",
    "n_characters = len(all_characters)\r\n",
    "print(\"Total number of characters: \", n_characters)"
   ],
   "outputs": [
    {
     "output_type": "stream",
     "name": "stdout",
     "text": [
      "All Characters -> 0123456789abcdefghijklmnopqrstuvwxyzABCDEFGHIJKLMNOPQRSTUVWXYZ!\"#$%&'()*+,-./:;<=>?@[\\]^_`{|}~ \t\n",
      "\u000b\f\n",
      "Total number of characters:  100\n"
     ]
    }
   ],
   "metadata": {}
  },
  {
   "cell_type": "code",
   "execution_count": 20,
   "source": [
    "file = unidecode.unidecode(open('names.txt').read()) #reading our data file, file = 'M i c h a e l \\n C .........'\r\n",
    "file[:250]"
   ],
   "outputs": [
    {
     "output_type": "execute_result",
     "data": {
      "text/plain": [
       "'Michael\\nChristopher\\nJessica\\nMatthew\\nAshley\\nJennifer\\nJoshua\\nAmanda\\nDaniel\\nDavid\\nJames\\nRobert\\nJohn\\nJoseph\\nAndrew\\nRyan\\nBrandon\\nJason\\nJustin\\nSarah\\nWilliam\\nJonathan\\nStephanie\\nBrian\\nNicole\\nNicholas\\nAnthony\\nHeather\\nEric\\nElizabeth\\nAdam\\nMegan\\nMelissa\\nKevin\\nSt'"
      ]
     },
     "metadata": {},
     "execution_count": 20
    }
   ],
   "metadata": {}
  },
  {
   "cell_type": "code",
   "execution_count": 19,
   "source": [
    "class RNN(nn.Module): # Can be called the fundamental building block of the model.\r\n",
    "    def __init__(self, input_size, hidden_size, num_layers, output_size):\r\n",
    "        super().__init__()\r\n",
    "        self.hidden_size = hidden_size\r\n",
    "        self.num_layers = num_layers\r\n",
    "\r\n",
    "        self.embed = nn.Embedding(input_size, hidden_size) # This is something the RNN is going to learn. Ex = e, where E is the embedding matrix, x is the input and e is the embedded vector generated.\r\n",
    "\r\n",
    "        self.lstm = nn.LSTM(hidden_size, hidden_size, num_layers, batch_first=True)\r\n",
    "        self.fc = nn.Linear(hidden_size, output_size)\r\n",
    "\r\n",
    "    def forward(self, x, hidden, cell):\r\n",
    "        out = self.embed(x)\r\n",
    "        out, (hidden, cell) = self.lstm(out.unsqueeze(1), (hidden, cell))\r\n",
    "        out = self.fc(out.reshape(out.shape[0], -1))\r\n",
    "\r\n",
    "        return out, (hidden, cell)\r\n",
    "\r\n",
    "    def init_hidden(self, batch_size): #just to innitialize hidden and cell for the LSTM\r\n",
    "        hidden = torch.zeros(self.num_layers, batch_size, self.hidden_size).to(device)\r\n",
    "        cell = torch.zeros(self.num_layers, batch_size, self.hidden_size).to(device)\r\n",
    "        return hidden, cell\r\n"
   ],
   "outputs": [],
   "metadata": {}
  },
  {
   "cell_type": "code",
   "execution_count": 33,
   "source": [
    "class Generator(nn.Module): # Generator does most of our work. As the name suggests it would generate names and do the training.\r\n",
    "    def __init__(self):\r\n",
    "        super().__init__()\r\n",
    "        self.chunk_len = 250 # length of output characters \"b, d, /n, ....\"\r\n",
    "        self.num_epochs = 5000 \r\n",
    "        self.batch_size = 1\r\n",
    "        self.print_every = 100\r\n",
    "        self.hidden_size = 256\r\n",
    "        self.num_layers = 3\r\n",
    "        self.lr = 0.003\r\n",
    "\r\n",
    "    def char_tensor(self, string): # map a string to a tensor \r\n",
    "        tensor = torch.zeros(len(string)).long()\r\n",
    "        for c in range(len(string)):\r\n",
    "            tensor[c] = all_characters.index(string[c]) # returns indices of of the characters \r\n",
    "\r\n",
    "        return tensor\r\n",
    "\r\n",
    "    def get_random_batch(self):\r\n",
    "        start_idx = random.randint(0, len(file)-self.chunk_len) # ensuing that start_idx would have atleast self.chunk_len after it \r\n",
    "        end_indx = start_idx + self.chunk_len + 1\r\n",
    "        text_str = file[start_idx:end_indx] \r\n",
    "        text_input = torch.zeros(self.batch_size, self.chunk_len)\r\n",
    "        text_target = torch.zeros(self.batch_size, self.chunk_len)\r\n",
    "\r\n",
    "        for i in range (self.batch_size):\r\n",
    "            text_input[i,:] = self.char_tensor(text_str[:-1])\r\n",
    "            text_target[i, :] = self.char_tensor(text_str[1:]) #the prediction is the next character\r\n",
    "\r\n",
    "        return text_input.long(), text_target.long()\r\n",
    "\r\n",
    "    def generate(self, initial_str = 'A', predict_len = 100, temperature=0.85):\r\n",
    "        hidden, cell = self.rnn.init_hidden(batch_size=self.batch_size)\r\n",
    "        initial_input = self.char_tensor(initial_str)\r\n",
    "        predicted = initial_str\r\n",
    "\r\n",
    "        for p in range(len(initial_str) - 1):\r\n",
    "            _, (hidden, cell) = self.rnn(initial_input[p].view(1).to(device), hidden, cell)\r\n",
    "\r\n",
    "\r\n",
    "        last_char = initial_input[-1]\r\n",
    "         \r\n",
    "        for p in range(predict_len):\r\n",
    "            output, (hidden, cell) = self.rnn(last_char.view(1).to(device), hidden, cell)\r\n",
    "            output_dist = output.data.view(-1).div(temperature).exp()\r\n",
    "            top_char = torch.multinomial(output_dist, 1)[0]\r\n",
    "            predicted_char = all_characters[top_char]\r\n",
    "            predicted += predicted_char\r\n",
    "            last_char = self.char_tensor(predicted_char)\r\n",
    "\r\n",
    "        return predicted\r\n",
    "\r\n",
    "\r\n",
    "\r\n",
    "\r\n",
    "        \r\n",
    "\r\n",
    "    def train(self):\r\n",
    "        self.rnn = RNN(n_characters, self.hidden_size, self.num_layers, n_characters).to(device)\r\n",
    "        \r\n",
    "        optimizer = torch.optim.Adam(self.rnn.parameters(), lr=self.lr)\r\n",
    "        criterion = nn.CrossEntropyLoss()\r\n",
    "        \r\n",
    "        writer = SummaryWriter(f'runs/names0')\r\n",
    "\r\n",
    "        print('====> Starting training')\r\n",
    "\r\n",
    "        for epoch in range (1, self.num_epochs + 1):\r\n",
    "            inp, target = self.get_random_batch()\r\n",
    "            hidden, cell = self.rnn.init_hidden(batch_size = self.batch_size)\r\n",
    "\r\n",
    "            self.rnn.zero_grad()\r\n",
    "\r\n",
    "            loss = 0\r\n",
    "            inp = inp.to(device)\r\n",
    "            #print('inp: ', inp.shape)\r\n",
    "            target = target.to(device)\r\n",
    "            #print('target: ', target.shape)\r\n",
    "            for c in range(self.chunk_len):\r\n",
    "                output, (hidden, cell) = self.rnn(inp[:, c], hidden, cell)\r\n",
    "                #print('inp[:, c]: ', inp[:, c])\r\n",
    "                #print('output: ', output.shape)\r\n",
    "                #print('target[:, c] ', target[:, c].shape)\r\n",
    "                loss += criterion(output, target[:, c])\r\n",
    "                \r\n",
    "    \r\n",
    "            loss.backward()\r\n",
    "            optimizer.step()\r\n",
    "            loss = loss.item() / self.chunk_len\r\n",
    "\r\n",
    "            if epoch % self.print_every == 0:\r\n",
    "                print(f'Loss: {loss}')\r\n",
    "                \r\n",
    "\r\n",
    "            writer.add_scalar('Training loss', loss, global_step=epoch)\r\n",
    "\r\n",
    "        print(self.generate())\r\n"
   ],
   "outputs": [],
   "metadata": {}
  },
  {
   "cell_type": "code",
   "execution_count": 34,
   "source": [
    "gennames = Generator()\r\n",
    "gennames.train()"
   ],
   "outputs": [
    {
     "output_type": "stream",
     "name": "stdout",
     "text": [
      "====> Starting training\n",
      "Loss: 2.594562744140625\n",
      "Loss: 2.26596728515625\n",
      "Loss: 2.24347119140625\n",
      "Loss: 2.255954833984375\n",
      "Loss: 2.22024169921875\n",
      "Loss: 2.1541376953125\n",
      "Loss: 2.3362548828125\n",
      "Loss: 2.211706787109375\n",
      "Loss: 2.313609375\n",
      "Loss: 2.091497314453125\n",
      "Loss: 1.9580394287109375\n",
      "Loss: 1.7014146728515624\n",
      "Loss: 2.125843994140625\n",
      "Loss: 1.9344033203125\n",
      "Loss: 1.9112117919921876\n",
      "Loss: 2.284055908203125\n",
      "Loss: 1.793951171875\n",
      "Loss: 2.08261279296875\n",
      "Loss: 1.869141845703125\n",
      "Loss: 1.949829345703125\n",
      "Loss: 2.168683837890625\n",
      "Loss: 2.05549267578125\n",
      "Loss: 2.06977880859375\n",
      "Loss: 1.9278770751953125\n",
      "Loss: 2.157693603515625\n",
      "Loss: 1.9790606689453125\n",
      "Loss: 1.9210311279296874\n",
      "Loss: 1.707993896484375\n",
      "Loss: 1.955552490234375\n",
      "Loss: 1.96122216796875\n",
      "Loss: 1.7981553955078124\n",
      "Loss: 1.7454229736328124\n",
      "Loss: 1.7346317138671874\n",
      "Loss: 1.778651611328125\n",
      "Loss: 1.753957275390625\n",
      "Loss: 1.562507080078125\n",
      "Loss: 1.58137109375\n",
      "Loss: 1.7126717529296875\n",
      "Loss: 1.774057861328125\n",
      "Loss: 1.70461767578125\n",
      "Loss: 1.605557861328125\n",
      "Loss: 1.6890220947265624\n",
      "Loss: 1.423722412109375\n",
      "Loss: 1.6451480712890625\n",
      "Loss: 1.7200791015625\n",
      "Loss: 1.4678663330078126\n",
      "Loss: 1.3454248046875\n",
      "Loss: 1.421295654296875\n",
      "Loss: 1.854891357421875\n",
      "Loss: 1.450891357421875\n",
      "Alinna\n",
      "Ashton\n",
      "Analy\n",
      "Andreanna\n",
      "Albersa\n",
      "Ashanna\n",
      "Antayne\n",
      "Abrell\n",
      "Aletta\n",
      "Arcus\n",
      "Atemus\n",
      "Brentina\n",
      "Brono\n",
      "Aniah\n"
     ]
    }
   ],
   "metadata": {}
  },
  {
   "cell_type": "code",
   "execution_count": null,
   "source": [],
   "outputs": [],
   "metadata": {}
  }
 ],
 "metadata": {
  "orig_nbformat": 4,
  "language_info": {
   "name": "python",
   "version": "3.8.10",
   "mimetype": "text/x-python",
   "codemirror_mode": {
    "name": "ipython",
    "version": 3
   },
   "pygments_lexer": "ipython3",
   "nbconvert_exporter": "python",
   "file_extension": ".py"
  },
  "kernelspec": {
   "name": "python3",
   "display_name": "Python 3.8.10 64-bit ('pytorch': conda)"
  },
  "interpreter": {
   "hash": "a64cc5d633a46dba4f37b3d299661fe29034eb81d3eed8181da436288122166c"
  }
 },
 "nbformat": 4,
 "nbformat_minor": 2
}