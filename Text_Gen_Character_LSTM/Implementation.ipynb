{
 "cells": [
  {
   "cell_type": "code",
   "execution_count": 28,
   "source": [
    "import torch\r\n",
    "import torch.nn as nn\r\n",
    "import string\r\n",
    "import random \r\n",
    "import unidecode \r\n",
    "from torch.utils.tensorboard import SummaryWriter"
   ],
   "outputs": [],
   "metadata": {}
  },
  {
   "cell_type": "code",
   "execution_count": 29,
   "source": [
    "device = torch.device('cuda' if torch.cuda.is_available() else 'cpu')"
   ],
   "outputs": [],
   "metadata": {}
  },
  {
   "cell_type": "code",
   "execution_count": 30,
   "source": [
    "all_characters = string.printable\r\n",
    "n_characters = len(all_characters)"
   ],
   "outputs": [],
   "metadata": {}
  },
  {
   "cell_type": "code",
   "execution_count": 31,
   "source": [
    "all_characters"
   ],
   "outputs": [
    {
     "output_type": "execute_result",
     "data": {
      "text/plain": [
       "'0123456789abcdefghijklmnopqrstuvwxyzABCDEFGHIJKLMNOPQRSTUVWXYZ!\"#$%&\\'()*+,-./:;<=>?@[\\\\]^_`{|}~ \\t\\n\\r\\x0b\\x0c'"
      ]
     },
     "metadata": {},
     "execution_count": 31
    }
   ],
   "metadata": {}
  },
  {
   "cell_type": "code",
   "execution_count": 32,
   "source": [
    "file = unidecode.unidecode(open('names.txt').read())"
   ],
   "outputs": [],
   "metadata": {}
  },
  {
   "cell_type": "code",
   "execution_count": 33,
   "source": [
    "class RNN(nn.Module):\r\n",
    "    def __init__(self, input_size, hidden_size, num_layers, output_size):\r\n",
    "        super().__init__()\r\n",
    "        self.hidden_size = hidden_size\r\n",
    "        self.num_layers = num_layers\r\n",
    "\r\n",
    "        self.embed = nn.Embedding(input_size, hidden_size)\r\n",
    "\r\n",
    "        self.lstm = nn.LSTM(hidden_size, hidden_size, num_layers, batch_first=True)\r\n",
    "        self.fc = nn.Linear(hidden_size, output_size)\r\n",
    "\r\n",
    "    def forward(self, x, hidden, cell):\r\n",
    "        out = self.embed(x)\r\n",
    "        out, (hidden, cell) = self.lstm(out.unsqueeze(1), (hidden, cell))\r\n",
    "        out = self.fc(out.reshape(out.shape[0], -1))\r\n",
    "\r\n",
    "        return out, (hidden, cell)\r\n",
    "\r\n",
    "    def init_hidden(self, batch_size):\r\n",
    "        hidden = torch.zeros(self.num_layers, batch_size, self.hidden_size).to(device)\r\n",
    "        cell = torch.zeros(self.num_layers, batch_size, self.hidden_size).to(device)\r\n",
    "        return hidden, cell\r\n"
   ],
   "outputs": [],
   "metadata": {}
  },
  {
   "cell_type": "code",
   "execution_count": 37,
   "source": [
    "class Generator(nn.Module):\r\n",
    "    def __init__(self):\r\n",
    "        super().__init__()\r\n",
    "        self.chunk_len = 250\r\n",
    "        self.num_epochs = 500\r\n",
    "        self.batch_size = 1\r\n",
    "        self.print_every = 50\r\n",
    "        self.hidden_size = 256\r\n",
    "        self.num_layers = 2\r\n",
    "        self.lr = 0.003\r\n",
    "\r\n",
    "    def char_tensor(self, string):\r\n",
    "        tensor = torch.zeros(len(string)).long()\r\n",
    "        for c in range(len(string)):\r\n",
    "            tensor[c] = all_characters.index(string[c])\r\n",
    "\r\n",
    "        return tensor\r\n",
    "\r\n",
    "    def get_random_batch(self):\r\n",
    "        start_idx = random.randint(0, len(file)-self.chunk_len)\r\n",
    "        end_indx = start_idx + self.chunk_len + 1\r\n",
    "        text_str = file[start_idx:end_indx]\r\n",
    "        text_input = torch.zeros(self.batch_size, self.chunk_len)\r\n",
    "        text_target = torch.zeros(self.batch_size, self.chunk_len)\r\n",
    "\r\n",
    "        for i in range (self.batch_size):\r\n",
    "            text_input[i,:] = self.char_tensor(text_str[:-1])\r\n",
    "            text_target[i, :] = self.char_tensor(text_str[1:])\r\n",
    "\r\n",
    "        return text_input.long(), text_target.long()\r\n",
    "\r\n",
    "    def generate(self, initial_str = 'A', predict_len = 100, temperature=0.85):\r\n",
    "        hidden, cell = self.rnn.init_hidden(batch_size=self.batch_size)\r\n",
    "        initial_input = self.char_tensor(initial_str)\r\n",
    "        predicted = initial_str\r\n",
    "\r\n",
    "        for p in range(len(initial_str) - 1):\r\n",
    "            _, (hidden, cell) = self.rnn(initial_input[p].view(1).to(device), hidden, cell)\r\n",
    "\r\n",
    "\r\n",
    "        last_char = initial_input[-1]\r\n",
    "         \r\n",
    "        for p in range(predict_len):\r\n",
    "            output, (hidden, cell) = self.rnn(last_char.view(1).to(device), hidden, cell)\r\n",
    "            output_dist = output.data.view(-1).div(temperature).exp()\r\n",
    "            top_char = torch.multinomial(output_dist, 1)[0]\r\n",
    "            predicted_char = all_characters[top_char]\r\n",
    "            predicted += predicted_char\r\n",
    "            last_char = self.char_tensor(predicted_char)\r\n",
    "\r\n",
    "        return predicted\r\n",
    "\r\n",
    "\r\n",
    "\r\n",
    "\r\n",
    "        \r\n",
    "\r\n",
    "    def train(self):\r\n",
    "        self.rnn = RNN(n_characters, self.hidden_size, self.num_layers, n_characters).to(device)\r\n",
    "        \r\n",
    "        optimizer = torch.optim.Adam(self.parameters(), lr=self.lr)\r\n",
    "        criterion = nn.CrossEntropyLoss()\r\n",
    "        \r\n",
    "        writer = SummaryWriter(f'runs/names0')\r\n",
    "\r\n",
    "        print('=> Starting training')\r\n",
    "\r\n",
    "        for epoch in range (1, self.num_epochs + 1):\r\n",
    "            inp, target = self.get_random_batch()\r\n",
    "            hidden, cell = self.rnn.init_hidden(batch_size = self.batch_size)\r\n",
    "\r\n",
    "            self.rnn.zero_grad()\r\n",
    "\r\n",
    "            loss = 0\r\n",
    "            inp = inp.to(device)\r\n",
    "            target = target.to(device)\r\n",
    "\r\n",
    "            for c in range(self.chunk_len):\r\n",
    "                output, (hidden, cell) = self.rnn(inp[:, c], hidden, cell)\r\n",
    "                loss += criterion(output, target[:, c])\r\n",
    "\r\n",
    "            loss.backward()\r\n",
    "            optimizer.step()\r\n",
    "            loss = loss.item() / self.chunk_len\r\n",
    "\r\n",
    "            if epoch % self.print_every == 0:\r\n",
    "                print(f'Loss: {loss}')\r\n",
    "                \r\n",
    "\r\n",
    "            writer.add_scalar('Training loss', loss, global_step=epoch)\r\n",
    "\r\n",
    "        print(self.generate())\r\n",
    "\r\n",
    "\r\n",
    "\r\n",
    "\r\n",
    "\r\n",
    "    \r\n"
   ],
   "outputs": [],
   "metadata": {}
  },
  {
   "cell_type": "code",
   "execution_count": 38,
   "source": [
    "gennames = Generator()\r\n",
    "gennames.train()"
   ],
   "outputs": [
    {
     "output_type": "stream",
     "name": "stdout",
     "text": [
      "=> Starting training\n",
      "Loss: 2.55103466796875\n",
      "Loss: 2.3036201171875\n",
      "Loss: 2.290312744140625\n",
      "Loss: 2.342150390625\n",
      "Loss: 2.124549560546875\n",
      "Loss: 1.872820556640625\n",
      "Loss: 1.87099072265625\n",
      "Loss: 2.12018212890625\n",
      "Loss: 2.0144520263671875\n",
      "Loss: 2.1611630859375\n",
      "Alet\n",
      "Jarick\n",
      "Bam\n",
      "Marden\n",
      "Mah\n",
      "Katellee\n",
      "Dennio\n",
      "Jindell\n",
      "Amariida\n",
      "Keesha\n",
      "Yavesco\n",
      "Kahmeyma\n",
      "Jadel\n",
      "Sethl\n",
      "Kaqua\n"
     ]
    }
   ],
   "metadata": {}
  },
  {
   "cell_type": "code",
   "execution_count": null,
   "source": [],
   "outputs": [],
   "metadata": {}
  }
 ],
 "metadata": {
  "orig_nbformat": 4,
  "language_info": {
   "name": "python",
   "version": "3.8.10",
   "mimetype": "text/x-python",
   "codemirror_mode": {
    "name": "ipython",
    "version": 3
   },
   "pygments_lexer": "ipython3",
   "nbconvert_exporter": "python",
   "file_extension": ".py"
  },
  "kernelspec": {
   "name": "python3",
   "display_name": "Python 3.8.10 64-bit ('pytorch': conda)"
  },
  "interpreter": {
   "hash": "a64cc5d633a46dba4f37b3d299661fe29034eb81d3eed8181da436288122166c"
  }
 },
 "nbformat": 4,
 "nbformat_minor": 2
}